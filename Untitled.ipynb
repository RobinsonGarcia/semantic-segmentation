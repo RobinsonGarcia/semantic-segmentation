{
 "cells": [
  {
   "cell_type": "markdown",
   "metadata": {},
   "source": [
    "<html>\n",
    "<h2>Perform a random search</h2>\n",
    "<h3> model: <b>U-net</b></h3>\n",
    "<p>writen by Robinson Garcia https://github.com/RobinsonGarcia</p>\n",
    "<p>...a thanks to cs231n Stanford</p>\n",
    "<p><b>Procedure:</b></p>\n",
    "<ol>\n",
    "<li>adjust search settings on <b>\"build_random_search_params.py\"</b></li>\n",
    "<li>run <b>\"python3 build_random_search_params.py\"</b> to create random_search_params.pickle</li>\n",
    "<li>Start on a <u><b>commandline</b></u> experiments with <b>\"python3 SemanticSegment/experiments.py --model_dir CHOOSE-A-NAME --number_experiments 80 --random_params random_search_params.pickle\"</b></li>\n",
    "</ol>"
   ]
  },
  {
   "cell_type": "code",
   "execution_count": null,
   "metadata": {},
   "outputs": [],
   "source": [
    "from SemanticSegment.synthesize_results import aggregate_metrics,metrics_to_table"
   ]
  },
  {
   "cell_type": "code",
   "execution_count": null,
   "metadata": {},
   "outputs": [],
   "source": [
    "# Aggregate metrics from args.parent_dir directory\n",
    "metrics= dict()\n",
    "aggregate_metrics('Shiriu', metrics)\n",
    "table = metrics_to_table(metrics)\n",
    "\n"
   ]
  }
 ],
 "metadata": {
  "kernelspec": {
   "display_name": "Python 3",
   "language": "python",
   "name": "python3"
  },
  "language_info": {
   "codemirror_mode": {
    "name": "ipython",
    "version": 3
   },
   "file_extension": ".py",
   "mimetype": "text/x-python",
   "name": "python",
   "nbconvert_exporter": "python",
   "pygments_lexer": "ipython3",
   "version": "3.6.4"
  }
 },
 "nbformat": 4,
 "nbformat_minor": 2
}
